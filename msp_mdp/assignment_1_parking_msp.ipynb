{
  "nbformat": 4,
  "nbformat_minor": 0,
  "metadata": {
    "colab": {
      "provenance": [],
      "authorship_tag": "ABX9TyN7MTNqT2Vr3BOqOzaXVFMV",
      "include_colab_link": true
    },
    "kernelspec": {
      "name": "python3",
      "display_name": "Python 3"
    },
    "language_info": {
      "name": "python"
    }
  },
  "cells": [
    {
      "cell_type": "markdown",
      "metadata": {
        "id": "view-in-github",
        "colab_type": "text"
      },
      "source": [
        "<a href=\"https://colab.research.google.com/github/aliciabassiere/optim_npo/blob/main/assignment_1_parking_msp.ipynb\" target=\"_parent\"><img src=\"https://colab.research.google.com/assets/colab-badge.svg\" alt=\"Open In Colab\"/></a>"
      ]
    },
    {
      "cell_type": "markdown",
      "source": [
        "# 📌 Assignment: Stochastic Optimization for Parking Decisions\n",
        "\n",
        "**Objective:**\n",
        "\n",
        "Implement and solve a stochastic linear optimization problem to determine where a driver should park under uncertainty, minimizing expected inconvenience cost."
      ],
      "metadata": {
        "id": "67ZBx_7cM6I0"
      }
    },
    {
      "cell_type": "code",
      "execution_count": null,
      "metadata": {
        "id": "5_EcFXDOMbEp"
      },
      "outputs": [],
      "source": [
        "import numpy as np\n",
        "from pyomo.environ import pyo\n",
        "from pyomo.environ import SolverFactory\n",
        "\n",
        "solver = SolverFactory('cbc', executable='/usr/bin/cbc')"
      ]
    },
    {
      "cell_type": "markdown",
      "source": [
        "**Step 1**\n",
        "\n",
        "– Generate parking scenarios\n",
        "\n",
        "- Each spot\n",
        "𝑛 ∈{1,...,𝑁} can be empty (1) or full (0)\n",
        "\n",
        "- Generate all possible combinations (total of 2𝑁 scenarios)\n",
        "\n",
        "- Encode scenarios as binary arrays: delta[s, n] = 1 if spot 𝑛 is empty in scenario 𝑠\n",
        "\n",
        "*Hint: Use bin(s)[2:].zfill(N) and convert to a NumPy array*"
      ],
      "metadata": {
        "id": "5yc3860WNVo1"
      }
    },
    {
      "cell_type": "code",
      "source": [],
      "metadata": {
        "id": "4iEFyt2ZPYkg"
      },
      "execution_count": null,
      "outputs": []
    },
    {
      "cell_type": "markdown",
      "source": [
        "**Step 2 – Define the model**\n",
        "\n",
        "Use Pyomo to define:\n",
        "- Parameters: scenario availability and probabilities\n",
        "- Binary decision variables: where to park in each scenario\n",
        "- Constraints:\n",
        "  - Park at most once\n",
        "  - Only park in available spots\n",
        "- Objective: minimize expected cost\n"
      ],
      "metadata": {
        "id": "6mnBe11LNNYE"
      }
    },
    {
      "cell_type": "code",
      "source": [],
      "metadata": {
        "id": "GfzJXKdSPZSt"
      },
      "execution_count": null,
      "outputs": []
    },
    {
      "cell_type": "markdown",
      "source": [
        "**Step 4 – Solve and analyze**\n",
        "\n",
        "Solve the model with an open-source solver (e.g. CBC),  \n",
        "then print the parking decisions for each scenario.\n"
      ],
      "metadata": {
        "id": "H7SFs2w0PXE3"
      }
    },
    {
      "cell_type": "code",
      "source": [],
      "metadata": {
        "id": "kIIm_oYbQnru"
      },
      "execution_count": null,
      "outputs": []
    }
  ]
}