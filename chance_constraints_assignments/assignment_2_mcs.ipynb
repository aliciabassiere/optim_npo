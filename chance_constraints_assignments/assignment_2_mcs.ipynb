{
  "nbformat": 4,
  "nbformat_minor": 0,
  "metadata": {
    "colab": {
      "provenance": [],
      "authorship_tag": "ABX9TyMEfOiQRI6gV1BEUwZh42Jx",
      "include_colab_link": true
    },
    "kernelspec": {
      "name": "python3",
      "display_name": "Python 3"
    },
    "language_info": {
      "name": "python"
    }
  },
  "cells": [
    {
      "cell_type": "markdown",
      "metadata": {
        "id": "view-in-github",
        "colab_type": "text"
      },
      "source": [
        "<a href=\"https://colab.research.google.com/github/aliciabassiere/optim_npo/blob/main/assignment_2_mcs.ipynb\" target=\"_parent\"><img src=\"https://colab.research.google.com/assets/colab-badge.svg\" alt=\"Open In Colab\"/></a>"
      ]
    },
    {
      "cell_type": "markdown",
      "source": [
        "# **Chance-Constrained Optimization with Scenario Approximation**\n",
        "**Purpose of the Exercise:**\n",
        "\n",
        "This notebook explores how to solve and validate a chance-constrained optimization problem using the scenario approximation method.\n",
        "\n",
        "We aim to:\n",
        "\n",
        "1️⃣ Formulate an optimization problem with uncertain constraints\n",
        "\n",
        "2️⃣ Approximate chance constraints using a finite number of sampled scenarios\n",
        "\n",
        "3️⃣ Solve the deterministic reformulation using Pyomo and the CBC solver\n",
        "\n",
        "4️⃣ Validate the solution with Monte Carlo sampling to estimate the true constraint violation probability\n",
        "\n",
        "5️⃣ Use bootstrapping to construct a confidence bound on the probability of constraint violations\n"
      ],
      "metadata": {
        "id": "J3h5W69BPasj"
      }
    },
    {
      "cell_type": "markdown",
      "source": [
        "*Solvers have to be installed via terminal/Linux*"
      ],
      "metadata": {
        "id": "UpOfYmS7PTnl"
      }
    },
    {
      "cell_type": "code",
      "execution_count": 10,
      "metadata": {
        "colab": {
          "base_uri": "https://localhost:8080/"
        },
        "id": "Qquz1cLxMM1e",
        "outputId": "e936a025-47fe-4a92-ad3e-7039d4571391"
      },
      "outputs": [
        {
          "output_type": "stream",
          "name": "stdout",
          "text": [
            "Reading package lists... Done\n",
            "Building dependency tree... Done\n",
            "Reading state information... Done\n",
            "coinor-cbc is already the newest version (2.10.7+ds1-1).\n",
            "0 upgraded, 0 newly installed, 0 to remove and 29 not upgraded.\n",
            "True\n"
          ]
        }
      ],
      "source": [
        "!apt-get install -y coinor-cbc\n"
      ]
    },
    {
      "cell_type": "markdown",
      "source": [
        "**Step 0: Import libraries**"
      ],
      "metadata": {
        "id": "BdA9GCP5O2Ae"
      }
    },
    {
      "cell_type": "code",
      "source": [
        "# Import a library for vector computation and set a seed (useful for reproducibility of the results)\n",
        "\n",
        "# Pyomo import + solver setting for colab\n",
        "\n",
        "import pyomo.environ as pyo\n",
        "from pyomo.environ import SolverFactory\n",
        "\n",
        "solver = SolverFactory('cbc', executable='/usr/bin/cbc')"
      ],
      "metadata": {
        "id": "lnjMGN98O1LW"
      },
      "execution_count": null,
      "outputs": []
    },
    {
      "cell_type": "markdown",
      "source": [],
      "metadata": {
        "id": "6QelpZv4PKS5"
      }
    },
    {
      "cell_type": "markdown",
      "source": [
        "**Step 1 : Define the problem parameters**\n",
        "\n",
        "You need risk probabilities, confidence levels, a theoretical upper bound, sample sizes for SAA, MCS and boostrapping"
      ],
      "metadata": {
        "id": "JG293GDaP5fT"
      }
    },
    {
      "cell_type": "code",
      "source": [],
      "metadata": {
        "id": "7-2smqIxQLfE"
      },
      "execution_count": null,
      "outputs": []
    },
    {
      "cell_type": "markdown",
      "source": [
        "**Step 2: Generate scenarios samples**\n",
        "\n",
        "You will need some function to draw values for the stochastic variables"
      ],
      "metadata": {
        "id": "WNmneCAlQMEH"
      }
    },
    {
      "cell_type": "code",
      "source": [],
      "metadata": {
        "id": "DbZY4VYFQg2E"
      },
      "execution_count": null,
      "outputs": []
    },
    {
      "cell_type": "markdown",
      "source": [
        "**Step 3: Define Pyomo model**\n",
        "\n",
        "Initialize a pyomo model class, and specify variables, objective function and constraints"
      ],
      "metadata": {
        "id": "tA97b8x8Qw3s"
      }
    },
    {
      "cell_type": "code",
      "source": [],
      "metadata": {
        "id": "DcLpkrOaRHV2"
      },
      "execution_count": null,
      "outputs": []
    },
    {
      "cell_type": "markdown",
      "source": [
        "**Step 4: Use CBC solver to solve the model**"
      ],
      "metadata": {
        "id": "UqGeFgZPRH99"
      }
    },
    {
      "cell_type": "code",
      "source": [],
      "metadata": {
        "id": "DgYxgTJfRLg7"
      },
      "execution_count": null,
      "outputs": []
    },
    {
      "cell_type": "markdown",
      "source": [
        "Step 5: MCS for validation\n",
        "\n",
        "- Out-of-sample validation of feasibility (compute the numnber of violations)\n",
        "- Use bootstrap resampling for upper bound estimation"
      ],
      "metadata": {
        "id": "vpulo_ELRRWQ"
      }
    },
    {
      "cell_type": "code",
      "source": [],
      "metadata": {
        "id": "aBljvn28M579"
      },
      "execution_count": 14,
      "outputs": []
    },
    {
      "cell_type": "markdown",
      "source": [
        "**Print the final results**"
      ],
      "metadata": {
        "id": "CHOzkHyURke_"
      }
    },
    {
      "cell_type": "code",
      "source": [],
      "metadata": {
        "id": "fC4loFZ6Rm_E"
      },
      "execution_count": null,
      "outputs": []
    }
  ]
}