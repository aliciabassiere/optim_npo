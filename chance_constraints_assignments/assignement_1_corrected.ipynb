{
 "cells": [
  {
   "cell_type": "code",
   "execution_count": 3,
   "metadata": {},
   "outputs": [
    {
     "name": "stdout",
     "output_type": "stream",
     "text": [
      "Optimal Solution for expected demand:\n",
      "x1* = 36.00, x2* = 18.00\n",
      "Minimum Cost = 126.00\n",
      "Optimal Solution for chance constraints:\n",
      "x1* = 38.94, x2* = 20.94\n",
      "Minimum Cost = 140.70\n"
     ]
    }
   ],
   "source": [
    "### Assignment: Linear Optimization with Demand Estimation ###\n",
    "\n",
    "# Step 1: Import the necessary libraries\n",
    "# (Students must complete this part)\n",
    "import numpy as np\n",
    "from scipy.optimize import linprog\n",
    "from scipy.stats import norm\n",
    "\n",
    "# Step 2: Compute the deterministic demand\n",
    "mu1, sigma1 = 180, 12  \n",
    "mu2, sigma2 = 162, 9   \n",
    "\n",
    "z_975 = norm.ppf(0.975)\n",
    "\n",
    "h1_expected = 180\n",
    "h2_expected = 162\n",
    "\n",
    "h1_deterministic = mu1 + z_975 * sigma1\n",
    "h2_deterministic = mu2 + z_975 * sigma2\n",
    "\n",
    "# Step 3: Define the optimization problem\n",
    "c = [2, 3]\n",
    "\n",
    "A = [\n",
    "    [1, 1],      \n",
    "    [-2, -6],    \n",
    "    [-3, -3]    \n",
    "]\n",
    "\n",
    "b_expected = [100, -h1_expected, -h2_expected]\n",
    "b_chance = [100, -h1_deterministic, -h2_deterministic]\n",
    "x_bounds = [(0, None), (0, None)]\n",
    "\n",
    "# Step 4: Solve the optimization problem\n",
    "res_expected = linprog(c, A_ub=A, b_ub=b_expected, bounds=x_bounds, method='highs')\n",
    "res_chance = linprog(c, A_ub=A, b_ub=b_chance, bounds=x_bounds, method='highs')\n",
    "\n",
    "# Display Results\n",
    "print(\"Optimal Solution for expected demand:\")\n",
    "print(f\"x1* = {res_expected.x[0]:.2f}, x2* = {res_expected.x[1]:.2f}\")\n",
    "print(f\"Minimum Cost = {res_expected.fun:.2f}\")\n",
    "print(\"Optimal Solution for chance constraints:\")\n",
    "print(f\"x1* = {res_chance.x[0]:.2f}, x2* = {res_chance.x[1]:.2f}\")\n",
    "print(f\"Minimum Cost = {res_chance.fun:.2f}\")\n"
   ]
  }
 ],
 "metadata": {
  "kernelspec": {
   "display_name": "chance_env",
   "language": "python",
   "name": "python3"
  },
  "language_info": {
   "codemirror_mode": {
    "name": "ipython",
    "version": 3
   },
   "file_extension": ".py",
   "mimetype": "text/x-python",
   "name": "python",
   "nbconvert_exporter": "python",
   "pygments_lexer": "ipython3",
   "version": "3.12.3"
  }
 },
 "nbformat": 4,
 "nbformat_minor": 2
}
