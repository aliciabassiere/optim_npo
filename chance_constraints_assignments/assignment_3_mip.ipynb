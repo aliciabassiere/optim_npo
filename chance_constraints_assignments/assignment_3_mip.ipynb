{
  "nbformat": 4,
  "nbformat_minor": 0,
  "metadata": {
    "colab": {
      "provenance": [],
      "authorship_tag": "ABX9TyOxQskrJck3PnUnN7edKDmV",
      "include_colab_link": true
    },
    "kernelspec": {
      "name": "python3",
      "display_name": "Python 3"
    },
    "language_info": {
      "name": "python"
    }
  },
  "cells": [
    {
      "cell_type": "markdown",
      "metadata": {
        "id": "view-in-github",
        "colab_type": "text"
      },
      "source": [
        "<a href=\"https://colab.research.google.com/github/aliciabassiere/optim_npo/blob/main/assignment_3_mip.ipynb\" target=\"_parent\"><img src=\"https://colab.research.google.com/assets/colab-badge.svg\" alt=\"Open In Colab\"/></a>"
      ]
    },
    {
      "cell_type": "markdown",
      "source": [
        "# MIP-Based Chance-Constrained Optimization\n",
        "\n",
        "**Purpose of the Exercise:**\n",
        "\n",
        "We aim to:\n",
        "\n",
        "1️⃣ Formulate a chance-constrained problem using binary variables to capture individual scenario violations\n",
        "\n",
        "2️⃣ Approximate the probabilistic constraint by enforcing a violation budget tied to a maximum allowable probability 𝛼\n",
        "\n",
        "3️⃣ Solve the resulting Mixed-Integer Program (MIP) with Pyomo and CBC\n",
        "\n",
        "4️⃣ Observe how this MIP-based approach provides a direct handle on the allowable chance of violation via binary indicators\n"
      ],
      "metadata": {
        "id": "t8HFIOKMTmNh"
      }
    },
    {
      "cell_type": "code",
      "execution_count": null,
      "metadata": {
        "id": "Hc8dy937TEAU"
      },
      "outputs": [],
      "source": [
        "!apt-get install -y coinor-cbc"
      ]
    },
    {
      "cell_type": "markdown",
      "source": [
        "**Step 0: Import libraries**"
      ],
      "metadata": {
        "id": "AeUqK-koUe5T"
      }
    },
    {
      "cell_type": "code",
      "source": [
        "# Import a library for vector computation and set a seed (useful for reproducibility of the results)\n",
        "\n",
        "# Pyomo import + solver setting for colab\n",
        "\n",
        "import pyomo.environ as pyo\n",
        "from pyomo.environ import SolverFactory\n",
        "\n",
        "solver = SolverFactory('cbc', executable='/usr/bin/cbc')"
      ],
      "metadata": {
        "id": "o05Hm-_-Uk45"
      },
      "execution_count": null,
      "outputs": []
    },
    {
      "cell_type": "markdown",
      "source": [
        "**Step 1 : Define the problem parameters**\n",
        "\n",
        "You need risk probabilities, confidence levels, sample sizes for scenarios and out-of-samples verification, boostrapp, and Big_M constants for the constraints"
      ],
      "metadata": {
        "id": "LiX58Vs0Unxc"
      }
    },
    {
      "cell_type": "code",
      "source": [],
      "metadata": {
        "id": "Hr2Iepx5U5tp"
      },
      "execution_count": null,
      "outputs": []
    },
    {
      "cell_type": "markdown",
      "source": [
        "**Step 2: Generate scenarios samples**\n",
        "\n",
        "You will need some function to draw values for the stochastic variables, but also a **weighting**"
      ],
      "metadata": {
        "id": "AqWOoPjpU6hx"
      }
    },
    {
      "cell_type": "code",
      "source": [],
      "metadata": {
        "id": "CdZ55_N1VIWU"
      },
      "execution_count": null,
      "outputs": []
    },
    {
      "cell_type": "markdown",
      "source": [
        "**Step 3: Define the MIP model using Pyomo**\n",
        "\n",
        "Careful, you also need binary variables this time!"
      ],
      "metadata": {
        "id": "NnZ5Sk32VJPB"
      }
    },
    {
      "cell_type": "code",
      "source": [],
      "metadata": {
        "id": "kN6g-8Z7VPz_"
      },
      "execution_count": null,
      "outputs": []
    },
    {
      "cell_type": "markdown",
      "source": [
        "**Step 4: Create the \"violation\" budget (chance-constraint approximation) and the Big-M constraints**\n",
        "\n",
        "*Hint: remember the constraints on the binary variables from the lecture*[texte du lien](https://)"
      ],
      "metadata": {
        "id": "54UK4504VZP6"
      }
    },
    {
      "cell_type": "code",
      "source": [],
      "metadata": {
        "id": "H1dSAOGgVVmG"
      },
      "execution_count": null,
      "outputs": []
    },
    {
      "cell_type": "markdown",
      "source": [
        "**Step 5: Solve the MIP Model**"
      ],
      "metadata": {
        "id": "a_PKLczRV7Jh"
      }
    },
    {
      "cell_type": "code",
      "source": [],
      "metadata": {
        "id": "xZ_NjeS-V50q"
      },
      "execution_count": null,
      "outputs": []
    },
    {
      "cell_type": "markdown",
      "source": [
        "**Print results**"
      ],
      "metadata": {
        "id": "wqeuPrHLV-jH"
      }
    },
    {
      "cell_type": "code",
      "source": [],
      "metadata": {
        "id": "zT4FOItJVuq7"
      },
      "execution_count": null,
      "outputs": []
    }
  ]
}