{
  "nbformat": 4,
  "nbformat_minor": 0,
  "metadata": {
    "colab": {
      "provenance": [],
      "authorship_tag": "ABX9TyMq5TGvidhCeXD3o9EUHjPc",
      "include_colab_link": true
    },
    "kernelspec": {
      "name": "python3",
      "display_name": "Python 3"
    },
    "language_info": {
      "name": "python"
    }
  },
  "cells": [
    {
      "cell_type": "markdown",
      "metadata": {
        "id": "view-in-github",
        "colab_type": "text"
      },
      "source": [
        "<a href=\"https://colab.research.google.com/github/aliciabassiere/optim_npo/blob/main/chance_constraints_assignments/assignment_1.ipynb\" target=\"_parent\"><img src=\"https://colab.research.google.com/assets/colab-badge.svg\" alt=\"Open In Colab\"/></a>"
      ]
    },
    {
      "cell_type": "markdown",
      "source": [
        "# **📌 Assignment: Linear Optimization with Demand Estimation**\n",
        "\n",
        "**Instructions**\n",
        "Complete the missing parts of the code below.\n",
        "1. **Import the required libraries**\n",
        "2. **Compute the deterministic demand**\n",
        "3. **Define and solve the optimization problem**\n"
      ],
      "metadata": {
        "id": "aey0WaDNajza"
      }
    },
    {
      "cell_type": "code",
      "source": [
        "# Step 1: Import necessary libraries\n",
        "# 🔹 TODO: Import NumPy, linprog from scipy.optimize, and norm from scipy.stats\n"
      ],
      "metadata": {
        "id": "xm7GHFHSah-x"
      },
      "execution_count": null,
      "outputs": []
    },
    {
      "cell_type": "code",
      "source": [
        "# Step 2: Compute the deterministic demand\n",
        "# 🔹 TODO: Define mu1, sigma1, mu2, sigma2\n",
        "# 🔹 TODO: Compute z_975\n",
        "# 🔹 TODO: Compute h1_deterministic and h2_deterministic\n"
      ],
      "metadata": {
        "id": "HKQ7PXdYa50N"
      },
      "execution_count": null,
      "outputs": []
    },
    {
      "cell_type": "code",
      "source": [
        "# Step 3: Define the optimization problem\n",
        "# 🔹 TODO: Define c, A, b, and x_bounds\n"
      ],
      "metadata": {
        "id": "JQzcimqPa-B7"
      },
      "execution_count": null,
      "outputs": []
    },
    {
      "cell_type": "code",
      "source": [
        "# Step 4: Solve the optimization problem\n",
        "# 🔹 TODO: Use linprog to solve it\n",
        "\n",
        "# Step 5: Display the results\n",
        "# 🔹 TODO: Print x1*, x2*, and the minimum cost"
      ],
      "metadata": {
        "id": "HWKI6jOla_sp"
      },
      "execution_count": null,
      "outputs": []
    }
  ]
}