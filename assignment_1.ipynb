{
 "cells": [
  {
   "cell_type": "code",
   "execution_count": null,
   "metadata": {},
   "outputs": [],
   "source": [
    "### 🚀 Assignment: Linear Optimization with Demand Estimation ###\n",
    "# Complete the missing parts below\n",
    "\n",
    "# 📌 Step 1: Import the necessary libraries\n",
    "# 🔹 TODO: Import NumPy, linprog from scipy.optimize, and norm from scipy.stats\n"
   ]
  },
  {
   "cell_type": "code",
   "execution_count": null,
   "metadata": {},
   "outputs": [],
   "source": [
    "# 📌 Step 2: Compute the deterministic demand\n",
    "# 🔹 TODO: Define mu1, sigma1, mu2, sigma2\n",
    "# 🔹 TODO: Compute z_975\n",
    "# 🔹 TODO: Compute h1_deterministic and h2_deterministic\n"
   ]
  },
  {
   "cell_type": "code",
   "execution_count": null,
   "metadata": {},
   "outputs": [],
   "source": [
    "# 📌 Step 3: Define the optimization problem\n",
    "# 🔹 TODO: Define c\n",
    "# 🔹 TODO: Define A\n",
    "# 🔹 TODO: Define b\n",
    "# 🔹 TODO: Define x_bounds\n"
   ]
  },
  {
   "cell_type": "code",
   "execution_count": null,
   "metadata": {},
   "outputs": [],
   "source": [
    "\n",
    "# 📌 Step 4: Solve the optimization problem\n",
    "# 🔹 TODO: Solve using linprog\n",
    "\n",
    "\n",
    "# 📌 Display the results\n",
    "# 🔹 TODO: Print x1*, x2*, and the minimum cost\n"
   ]
  }
 ],
 "metadata": {
  "language_info": {
   "name": "python"
  }
 },
 "nbformat": 4,
 "nbformat_minor": 2
}
