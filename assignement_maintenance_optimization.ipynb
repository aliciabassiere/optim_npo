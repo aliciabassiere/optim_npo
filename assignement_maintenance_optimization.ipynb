{
  "nbformat": 4,
  "nbformat_minor": 0,
  "metadata": {
    "colab": {
      "provenance": [],
      "authorship_tag": "ABX9TyN0uMqNwQ31zoqp5NpJYLFK",
      "include_colab_link": true
    },
    "kernelspec": {
      "name": "python3",
      "display_name": "Python 3"
    },
    "language_info": {
      "name": "python"
    }
  },
  "cells": [
    {
      "cell_type": "markdown",
      "metadata": {
        "id": "view-in-github",
        "colab_type": "text"
      },
      "source": [
        "<a href=\"https://colab.research.google.com/github/aliciabassiere/optim_npo/blob/main/assignement_maintenance_optimization.ipynb\" target=\"_parent\"><img src=\"https://colab.research.google.com/assets/colab-badge.svg\" alt=\"Open In Colab\"/></a>"
      ]
    },
    {
      "cell_type": "markdown",
      "source": [
        "# **Solving MDPs with Linear Programming**\n",
        "\n",
        "**Purpose of the Exercise**\n",
        "\n",
        "This notebook shows how to formulate and solve a Markov Decision Process (MDP) using linear programming. We will consider two formulations: the primal LP using the value function, and the dual LP using occupation measures (Q-states). Finally, we extract the optimal policy.\n"
      ],
      "metadata": {
        "id": "4NxOmEoyQhlg"
      }
    },
    {
      "cell_type": "code",
      "execution_count": null,
      "metadata": {
        "id": "Zk3gJMR0Oiba"
      },
      "outputs": [],
      "source": [
        "!apt-get install -y coinor-cbc\n",
        "\n",
        "import pyomo.environ as pyo\n",
        "from pyomo.environ import SolverFactory\n",
        "\n",
        "solver = SolverFactory('cbc', executable='/usr/bin/cbc')"
      ]
    },
    {
      "cell_type": "markdown",
      "source": [
        "**Step 1 — Solve the Primal LP (Value Function Formulation)**\n",
        "\n",
        "- Formulate the Bellman inequalities as linear constraints\n",
        "- Solve the LP to obtain the optimal value function $V^\\star(s)$\n"
      ],
      "metadata": {
        "id": "8MmhiKhsQuSy"
      }
    },
    {
      "cell_type": "code",
      "source": [],
      "metadata": {
        "id": "KRrHMXTjQ3Xc"
      },
      "execution_count": null,
      "outputs": []
    },
    {
      "cell_type": "markdown",
      "source": [
        "**Step 2 — Solve the Dual LP (Occupation Measure Formulation)**\n",
        "\n",
        "- Write the dual LP using variables $\\lambda(s, a)$\n",
        "- These variables represent discounted state-action visitation frequencies\n",
        "- Solve the LP to obtain optimal $\\lambda^\\star(s,a)$"
      ],
      "metadata": {
        "id": "MFYmP2ymQxHq"
      }
    },
    {
      "cell_type": "code",
      "source": [],
      "metadata": {
        "id": "PhEouizeQ25e"
      },
      "execution_count": null,
      "outputs": []
    },
    {
      "cell_type": "markdown",
      "source": [
        "**Step 3 — Recover the Optimal Policy**\n",
        "\n",
        "- From the primal: compute a greedy policy from the value function\n",
        "- From the dual: extract the action with highest \\(\\lambda(s,a)\\) for each state"
      ],
      "metadata": {
        "id": "0yIpn4nxQ2Dc"
      }
    },
    {
      "cell_type": "code",
      "source": [],
      "metadata": {
        "id": "QIXEtMlSQ42P"
      },
      "execution_count": null,
      "outputs": []
    }
  ]
}