{
  "nbformat": 4,
  "nbformat_minor": 0,
  "metadata": {
    "colab": {
      "provenance": [],
      "authorship_tag": "ABX9TyMV6oCODBnElM/Kq6/W0ZxI",
      "include_colab_link": true
    },
    "kernelspec": {
      "name": "python3",
      "display_name": "Python 3"
    },
    "language_info": {
      "name": "python"
    }
  },
  "cells": [
    {
      "cell_type": "markdown",
      "metadata": {
        "id": "view-in-github",
        "colab_type": "text"
      },
      "source": [
        "<a href=\"https://colab.research.google.com/github/aliciabassiere/optim_npo/blob/main/assignment_2_dike.ipynb\" target=\"_parent\"><img src=\"https://colab.research.google.com/assets/colab-badge.svg\" alt=\"Open In Colab\"/></a>"
      ]
    },
    {
      "cell_type": "markdown",
      "source": [
        "## **Exercise 2: Random Loss in the Dike Construction Problem**\n",
        "\n",
        "Consider the **random loss version** of the **Dike Construction Problem (DCP-randomloss)** as illustrated in the lecture. The problem is described as follows:\n",
        "\n",
        "- The **investment cost** of the dike is proportional to its height, with a constant **$c = 0.9$** [M€/m/yr].\n",
        "- The **height of the dike** $x$ can take any value in the range **$[0,3]$** meters, where **$x = 0$** means no dike is constructed.\n",
        "- The **economic loss** of the power plant from a flooding event is **proportional to the overflow height**, with a **random coefficient** $a$ [M€/m/yr] following a **lognormal distribution**:\n",
        "\n",
        "  $$\n",
        "  a \\sim \\mathrm{Lognormal}(0.7, 0.16^2)\n",
        "  $$\n",
        "\n",
        "- The **historical annual maximum overflow height** $H$ (when no dike was present) follows a **Gamma distribution**:\n",
        "\n",
        "  $$\n",
        "  H \\sim \\mathrm{Gamma}(\\alpha= 8, \\beta=4.5)\n",
        "  $$\n"
      ],
      "metadata": {
        "id": "gVxvWjz6qR8d"
      }
    },
    {
      "cell_type": "code",
      "execution_count": null,
      "metadata": {
        "id": "ypI6RpXNfTh0"
      },
      "outputs": [],
      "source": [
        "import numpy as np\n",
        "import matplotlib.pyplot as plt\n",
        "import scipy.stats as stat\n",
        "from matplotlib import rc\n",
        "from scipy.optimize import linprog\n",
        "from pyomo.environ import *\n",
        "\n",
        "\n",
        "rc('text', usetex=True) # If you wanna print latex on the graphs"
      ]
    },
    {
      "cell_type": "markdown",
      "source": [
        "### **Part 1: Monte Carlo Simulation of Economic Loss and Risk Measures**\n",
        "1. Use **Monte Carlo sampling** to simulate the **distribution of historical annual economic losses** from flooding events.\n",
        "2. Calculate the **empirical VaR and CVaR** of these losses at a **confidence level** $\\alpha = 0.9$.\n",
        "\n",
        "#### **Probability Density Functions**\n",
        "- The **PDF of $H$** (Gamma-distributed) is:\n",
        "\n",
        "  $$\n",
        "  f_H(x) = \\frac{\\beta^\\alpha x^{\\alpha-1} e^{-\\beta x}}{\\Gamma(\\alpha)}\n",
        "  $$\n",
        "\n",
        "- The **PDF of $a$** (Lognormal-distributed) is:\n",
        "\n",
        "  $$\n",
        "  f_a(x) = \\frac{1}{x} \\cdot \\frac{1}{\\sigma \\sqrt{2\\pi}} \\exp \\left( - \\frac{(\\ln x - \\mu)^2}{2\\sigma^2} \\right)\n",
        "  $$"
      ],
      "metadata": {
        "id": "hnveI6bsziDR"
      }
    },
    {
      "cell_type": "markdown",
      "source": [
        "## **Task 1: Monte Carlo Sampling**\n",
        "\n",
        "Please complete the generation of the sampled data:\n",
        "\n",
        "- **`H_rnd`** ($H_i$): Random samples of the historical annual maximum overflow height, $H$, using the given Gamma distribution parameters.\n",
        "- **`a_rnd`** ($a_i$): Random samples of the economic loss coefficient, $a$, using the given Lognormal distribution parameters.\n",
        "\n",
        "Use the provided parameters and set the **sample size** to `msize`."
      ],
      "metadata": {
        "id": "FbC0xeZTtdx8"
      }
    },
    {
      "cell_type": "markdown",
      "source": [
        "**Step 1: Define Parameters and Generate Random Samples**\n",
        "\n",
        "- Define the parameters of the Gamma and Lognormal distributions\n",
        "\n",
        "- Use Monte Carlo sampling to generate random values of overflow height (H_rnd) and economic loss coefficient (a_rnd)"
      ],
      "metadata": {
        "id": "hhmI9a1HteP1"
      }
    },
    {
      "cell_type": "code",
      "source": [],
      "metadata": {
        "id": "g5Dnf5yjtnul"
      },
      "execution_count": null,
      "outputs": []
    },
    {
      "cell_type": "markdown",
      "source": [
        "**Step 2: Compare with a Normal Distribution**\n",
        "\n",
        "- Generate a normally distributed dataset (arnd_norm) with the same mean and variance as a_rnd\n",
        "\n",
        "- Comparison between the lognormal and normal distributions"
      ],
      "metadata": {
        "id": "EpFsTNKJtoRD"
      }
    },
    {
      "cell_type": "code",
      "source": [],
      "metadata": {
        "id": "Zwc-_qhKuckx"
      },
      "execution_count": null,
      "outputs": []
    },
    {
      "cell_type": "markdown",
      "source": [
        "**Step 3: Plot Histograms of the Sampled Data**\n",
        "\n",
        "- Plot histograms for H_rnd (Gamma) and a_rnd (Lognormal)\n",
        "\n",
        "- Compare a_rnd with arnd_norm (Normal) in the second plot"
      ],
      "metadata": {
        "id": "2sD1mn4DudAH"
      }
    },
    {
      "cell_type": "code",
      "source": [],
      "metadata": {
        "id": "7tsqA0unuvLn"
      },
      "execution_count": null,
      "outputs": []
    },
    {
      "cell_type": "markdown",
      "source": [
        "## **Task 2: Compute Risk Measures (VaR & CVaR)**\n",
        "\n",
        "1. Complete the function **`risk_calculation`** to compute the **economic loss** and risk measures for the given sampled data:\n",
        "\n",
        "- **Inputs:**\n",
        "  - `H_rnd` ($H_i$): Simulated samples of the historical overflow height.\n",
        "  - `a_rnd` ($a_i$): Simulated samples of the economic loss coefficient.\n",
        "  - `alpha` ($\\alpha$): Confidence level for risk calculations.\n",
        "\n",
        "- **Outputs:**\n",
        "  - `loss`: A vector containing the **economic loss** computed from $H_i$ and $a_i$.\n",
        "  - `var` ($\\mathrm{VaR}_\\alpha$): The **Value at Risk** at confidence level $\\alpha$.\n",
        "  - `cvar` ($\\mathrm{CVaR}_\\alpha$): The **Conditional Value at Risk** at confidence level $\\alpha$.\n",
        "\n",
        "2. Compute and plot\n"
      ],
      "metadata": {
        "id": "_SAsI1acy3b4"
      }
    },
    {
      "cell_type": "code",
      "source": [],
      "metadata": {
        "id": "jNBaFEYPzag4"
      },
      "execution_count": null,
      "outputs": []
    },
    {
      "cell_type": "markdown",
      "source": [
        "---\n",
        "\n",
        "### **Part 2: Optimal Dike Height Selection**\n",
        "Now, assume that the **goal is to determine the optimal dike height** $x$ that minimizes the **total expected cost**, which consists of:\n",
        "- The **investment cost** of constructing the dike.\n",
        "- The **expected economic loss** due to flooding.\n",
        "\n",
        "#### **Tasks**\n",
        "1. **Formulate the Sample Average Approximation (SAA) problem**:  \n",
        "   - Express the total expected cost as a function of the dike height $x$.\n",
        "   - Use the Monte Carlo estimates to approximate this expectation.\n",
        "   \n",
        "2. **Solve for the optimal dike height** $x^*$ that minimizes the total expected cost.\n",
        "\n",
        "---"
      ],
      "metadata": {
        "id": "FTy1y6uNza-u"
      }
    },
    {
      "cell_type": "markdown",
      "source": [
        "**Step 1: Solve the SAA Problem Using Linear Programming (SciPy)**\n",
        "\n",
        "Implement the function dcp_saa_linprog(a, H, N) to solve the Sample Average Approximation (SAA) problem using SciPy's linear programming solver (linprog)"
      ],
      "metadata": {
        "id": "zDDrhBfI2KuZ"
      }
    },
    {
      "cell_type": "code",
      "source": [],
      "metadata": {
        "id": "evWijyRO2OzT"
      },
      "execution_count": null,
      "outputs": []
    },
    {
      "cell_type": "markdown",
      "source": [
        "**Step 2: Solve the SAA Problem Using Pyomo**\n",
        "\n",
        "Implement the function dcp_saa_pyomo(a, H, solver) to solve the SAA problem using Pyomo, which provides more flexibility for complex models."
      ],
      "metadata": {
        "id": "oFhsaGTy5sWQ"
      }
    },
    {
      "cell_type": "code",
      "source": [],
      "metadata": {
        "id": "VGS8YaU45u1A"
      },
      "execution_count": null,
      "outputs": []
    },
    {
      "cell_type": "markdown",
      "source": [
        "**Step 3: Generate Sample Data and Solve the Problem**\n",
        "\n",
        "- Generate random samples for H (Gamma) and a (Lognormal)\n",
        "\n",
        "- Solve the problem using dcp_saa_pyomo with solver 'cbc'\n",
        "\n",
        "- Print the optimal dike height and expected cost"
      ],
      "metadata": {
        "id": "nRdhmS7h-5KY"
      }
    },
    {
      "cell_type": "code",
      "source": [],
      "metadata": {
        "id": "LNB1k9Lq-4qm"
      },
      "execution_count": null,
      "outputs": []
    },
    {
      "cell_type": "markdown",
      "source": [
        "## **Part 3: Solve the SAA Problem with Different Sample Sizes**\n",
        "\n",
        "To assess the impact of sample size on the **SAA solution**, we follow five key steps:\n",
        "\n",
        "### **1️ Solve the SAA Problem for Different Sample Sizes**\n",
        "- Run the **Sample Average Approximation (SAA) optimization** using various Monte Carlo sample sizes.\n",
        "- Compute the **optimal dike height \\( x^* \\)** and **expected total cost** for each sample size.\n",
        "\n",
        "### **2️ Compare the Results Across Sample Sizes**\n",
        "- Observe how the **optimal height and total cost change** as `nsize` increases.\n",
        "- Determine if the solution stabilizes with **larger sample sizes**.\n",
        "\n",
        "### **3️ Perform Out-of-Sample Validation**\n",
        "- Use an **independent validation dataset** to test the robustness of the obtained solutions.\n",
        "- Evaluate whether the results remain consistent or fluctuate significantly.\n",
        "\n",
        "### **4️ Compute the True Expected Cost Function**\n",
        "- Compare the **estimated cost function** (from Monte Carlo sampling) with the **analytical expected cost function**.\n",
        "- Check if the **sample-based cost function approximates the true cost**.\n",
        "\n",
        "### **5️ Assess the Optimality Gap**\n",
        "- Run the **SAA problem multiple times** to evaluate the variability of the solution.\n",
        "- Compute **confidence bounds (LB and UB)** to quantify the **uncertainty in the optimal solution**.\n"
      ],
      "metadata": {
        "id": "dGqMfFgk8Urx"
      }
    },
    {
      "cell_type": "markdown",
      "source": [
        "**Step 1: Solve the SAA Problem for Different Sample Sizes**\n",
        "\n",
        "- Generate Monte Carlo samples for different values of nsize\n",
        "- Solve the SAA problem using Pyomo\n",
        "- Print the optimal dike height and expected total cost for each sample size"
      ],
      "metadata": {
        "id": "9j_7KgLEHdZ6"
      }
    },
    {
      "cell_type": "code",
      "source": [],
      "metadata": {
        "id": "yvGHMBQMHeIp"
      },
      "execution_count": null,
      "outputs": []
    },
    {
      "cell_type": "markdown",
      "source": [
        "**Step 2: Validate the Results Using Out-of-Sample Data**\n",
        "\n",
        "- Define the validation function dcp_validate(), which evaluates the out-of-sample expected cost for a given dike height\n",
        "\n",
        "- Compute the training and validation costs for each sample size"
      ],
      "metadata": {
        "id": "6GeHcdU8HemJ"
      }
    },
    {
      "cell_type": "code",
      "source": [],
      "metadata": {
        "id": "Xd8YgGeSHc_W"
      },
      "execution_count": null,
      "outputs": []
    },
    {
      "cell_type": "markdown",
      "source": [
        "**Step 3: Visualize the Cost Distribution for Training and Validation Sets**\n",
        "\n",
        "- Plot histograms of the total cost distribution for both training and validation sets\n",
        "\n",
        "- Compare mean costs for training vs. validation"
      ],
      "metadata": {
        "id": "3QbtMB8wHjVz"
      }
    },
    {
      "cell_type": "code",
      "source": [],
      "metadata": {
        "id": "4GuOFtrgHi0Q"
      },
      "execution_count": null,
      "outputs": []
    },
    {
      "cell_type": "markdown",
      "source": [
        "## **Analytical Calculation of the Expected Total Cost**\n",
        "\n",
        "For this simple problem, we can compute the **expected total cost** $\\mathbb{E}[C(x)]$ analytically:\n",
        "\n",
        "$$\n",
        "\\begin{aligned}\n",
        "\\mathbb{E}[C(x)] &= 0.9x + \\mathbb{E}[a(H-x)_+] \\\\\n",
        "                 &= 0.9x + \\mathbb{E}[a] \\cdot \\left\\{ \\mathbb{E}[H-x|H\\geq x] \\cdot \\mathbb{P}(H\\geq x) + 0\\cdot \\mathbb{P}(H < x) \\right\\} \\\\\n",
        "                 &= 0.9x + e^{\\mu+ 0.5\\cdot\\sigma^2} \\cdot \\mathbb{E}[H-x|H\\geq x] \\cdot [1-F_{H}(x)]\n",
        "\\end{aligned}\n",
        "$$\n",
        "\n",
        "Thus, we can **compare the estimated expected cost function** (computed from each sampled model) with the **true expected cost function** to evaluate the accuracy of the stochastic approximation.\n"
      ],
      "metadata": {
        "id": "kvVLDwA5Hnpg"
      }
    },
    {
      "cell_type": "markdown",
      "source": [
        "**Step 4: Compare Estimated and True Expected Cost Functions**\n",
        "\n",
        "- Plot the estimated expected cost function for different sample sizes\n",
        "\n",
        "- Compare them with the true expected cost function"
      ],
      "metadata": {
        "id": "kVn8l0UdHsFe"
      }
    },
    {
      "cell_type": "code",
      "source": [],
      "metadata": {
        "id": "rsTVnVRVHrwi"
      },
      "execution_count": null,
      "outputs": []
    },
    {
      "cell_type": "markdown",
      "source": [
        "## **Part 4: Controlling Tail Risk Using CVaR Optimization**\n",
        "\n",
        "### **Objective**\n",
        "Instead of minimizing the expected total cost, we now aim to **control tail risk** by minimizing the **Conditional Value at Risk (CVaR)** of the total cost (investment cost + economic loss). CVaR focuses on **worst-case scenarios**, making it useful for risk-averse decision-making.\n",
        "\n",
        "### **Key Steps**\n",
        "1️ **Formulate the CVaR Optimization Problem**  \n",
        "   - Define a new **objective function** that minimizes the **expected tail cost** instead of the mean cost.\n",
        "   - Introduce an auxiliary variable \\( \\gamma \\) for the CVaR formulation.\n",
        "\n",
        "2️ **Solve the Optimization Problem for Different Confidence Levels \\( \\alpha \\)**  \n",
        "   - Run the optimization using the **Pyomo solver** for multiple values of **\\( \\alpha = 0.85, 0.90, 0.95 \\)**.\n",
        "   - Compare the **optimal dike height \\( x^* \\)** obtained at each confidence level.\n",
        "\n",
        "3️ **Evaluate and Validate the CVaR Solutions**  \n",
        "   - Compute the **expected cost** and its **distribution** for each optimized solution.\n",
        "   - Compare results with the **SAA solutions** obtained in the previous steps.\n",
        "\n",
        "4️ **Compare CVaR and SAA Cost Distributions**  \n",
        "   - Visualize the **total cost distribution** under **CVaR-minimizing solutions**.\n",
        "   - Compare with the **SAA results** to analyze how controlling tail risk affects the solution.\n"
      ],
      "metadata": {
        "id": "CZRtihhvF1SK"
      }
    },
    {
      "cell_type": "markdown",
      "source": [
        "**Step 1: Solve the SAA Problem for Different Sample Sizes**\n",
        "\n",
        "- Generate Monte Carlo samples for different values of nsize\n",
        "- Solve the SAA problem using Pyomo\n",
        "- Print the optimal dike height and expected total cost for each sample size"
      ],
      "metadata": {
        "id": "99ZOr4LnHUJZ"
      }
    },
    {
      "cell_type": "code",
      "source": [],
      "metadata": {
        "id": "iaO7W7lLHVxm"
      },
      "execution_count": null,
      "outputs": []
    },
    {
      "cell_type": "markdown",
      "source": [
        "**Step 2: Compute Expected Cost and Tail Risk for CVaR Solutions**\n",
        "\n",
        "- Validate the out-of-sample performance of the CVaR-based optimal solutions\n",
        "\n",
        "- Compute VaR and CVaR at 95% on the validation set"
      ],
      "metadata": {
        "id": "h0d8_qQ2F2Qp"
      }
    },
    {
      "cell_type": "code",
      "source": [],
      "metadata": {
        "id": "Wr29vTjvHWI_"
      },
      "execution_count": null,
      "outputs": []
    },
    {
      "cell_type": "markdown",
      "source": [
        "**Step 3: Visualize the Comparison Between SAA and CVaR Solutions**\n",
        "\n",
        "- Plot the total cost distributions for SAA and CVaR solutions\n",
        "\n",
        "- Compare the CVaR-based and expected cost-based optimal dike heights"
      ],
      "metadata": {
        "id": "9q4bzd_3F49Z"
      }
    },
    {
      "cell_type": "code",
      "source": [],
      "metadata": {
        "id": "x6J8vMgGHWoM"
      },
      "execution_count": null,
      "outputs": []
    }
  ]
}