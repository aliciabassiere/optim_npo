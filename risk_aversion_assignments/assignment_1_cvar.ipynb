{
  "nbformat": 4,
  "nbformat_minor": 0,
  "metadata": {
    "colab": {
      "provenance": [],
      "authorship_tag": "ABX9TyOPgM64zRjuALMrtzRmPkf5",
      "include_colab_link": true
    },
    "kernelspec": {
      "name": "python3",
      "display_name": "Python 3"
    },
    "language_info": {
      "name": "python"
    }
  },
  "cells": [
    {
      "cell_type": "markdown",
      "metadata": {
        "id": "view-in-github",
        "colab_type": "text"
      },
      "source": [
        "<a href=\"https://colab.research.google.com/github/aliciabassiere/optim_npo/blob/main/assignment_1_cvar.ipynb\" target=\"_parent\"><img src=\"https://colab.research.google.com/assets/colab-badge.svg\" alt=\"Open In Colab\"/></a>"
      ]
    },
    {
      "cell_type": "markdown",
      "source": [
        "# Exercise 1: Value at Risk (VaR) and Conditional Value at Risk (CVaR) of a Continuous Distribution\n",
        "\n",
        "Consider a system loss variable $X$ following an exponential distribution:\n",
        "\n",
        "$$\n",
        "X \\sim \\textbf{Exp}(\\lambda)\n",
        "$$\n",
        "\n",
        "where $\\lambda > 0$ is the rate parameter. The expectation of $X$ is given by:\n",
        "\n",
        "$$\n",
        "\\mathbb{E}[X] = \\frac{1}{\\lambda}\n",
        "$$\n",
        "\n",
        "and its cumulative distribution function (CDF) is:\n",
        "\n",
        "$$\n",
        "F(x) =\n",
        "\\begin{cases}\n",
        "1 - e^{-\\lambda x}, & x \\geq 0 \\\\\n",
        "0, & x < 0\n",
        "\\end{cases}\n",
        "$$\n",
        "\n",
        "For an exponentially distributed loss variable $X \\sim \\textbf{Exp}(\\lambda)$, the risk measures are:\n",
        "\n",
        "$$\n",
        "\\mathrm{VaR}_\\alpha(X) = \\frac{-\\ln(1-\\alpha)}{\\lambda}, \\quad\n",
        "\\mathrm{CVaR}_\\alpha(X) = \\frac{1 - \\ln(1-\\alpha)}{\\lambda}.\n",
        "$$\n",
        "\n",
        "\n",
        "\n",
        "**Main Tasks:**\n",
        "\n",
        "1. Generate an exponential probability distribution\n",
        "\n",
        "2. Compute VaR and CVaR analytically using NumPy\n",
        "\n",
        "3. Visualize the results using Matplotlib\n"
      ],
      "metadata": {
        "id": "2fiRHcQaKvlF"
      }
    },
    {
      "cell_type": "markdown",
      "source": [
        "**Step 0: Import packages**"
      ],
      "metadata": {
        "id": "p9_mzi64TSh4"
      }
    },
    {
      "cell_type": "code",
      "source": [],
      "metadata": {
        "id": "ewyu-wNOTO5R"
      },
      "execution_count": null,
      "outputs": []
    },
    {
      "cell_type": "markdown",
      "source": [
        "**Step 1: Define the Exponential Distribution and Compute Risk Measures VAR and CVAR**\n",
        "\n",
        "- Define the exponential distribution\n",
        "\n",
        "- Compute VaR and CVaR analytically"
      ],
      "metadata": {
        "id": "3wTIcNGbTPkX"
      }
    },
    {
      "cell_type": "code",
      "execution_count": null,
      "metadata": {
        "id": "DdoqIw4sJ-AI"
      },
      "outputs": [],
      "source": []
    },
    {
      "cell_type": "markdown",
      "source": [
        "**Step 2: Generate the Probability Distribution Data**\n",
        "\n",
        "- Generate PDF and CDF values for plotting\n",
        "\n",
        "- Prepare the dataset for visualization"
      ],
      "metadata": {
        "id": "ffm0a4Quecmv"
      }
    },
    {
      "cell_type": "code",
      "source": [],
      "metadata": {
        "id": "n2SMlEEoeb-H"
      },
      "execution_count": null,
      "outputs": []
    },
    {
      "cell_type": "markdown",
      "source": [
        "**Step 3: Vizualize results**\n",
        "\n",
        "- Plot PDF and CDF\n",
        "\n",
        "- Mark VaR and CVaR on the graph\n",
        "\n",
        "- Analyze the results"
      ],
      "metadata": {
        "id": "Uq29SGV2eljJ"
      }
    }
  ]
}